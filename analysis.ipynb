{
 "cells": [
  {
   "cell_type": "code",
   "execution_count": 4,
   "metadata": {},
   "outputs": [],
   "source": [
    "import pandas as pd"
   ]
  },
  {
   "cell_type": "code",
   "execution_count": 3,
   "metadata": {},
   "outputs": [],
   "source": [
    "import numpy as np"
   ]
  },
  {
   "cell_type": "code",
   "execution_count": 5,
   "metadata": {},
   "outputs": [],
   "source": [
    "df=pd.read_csv(\"Daily shelter occupancy current .csv\")"
   ]
  },
  {
   "cell_type": "code",
   "execution_count": 4,
   "metadata": {},
   "outputs": [
    {
     "data": {
      "text/plain": [
       "(8560, 15)"
      ]
     },
     "execution_count": 4,
     "metadata": {},
     "output_type": "execute_result"
    }
   ],
   "source": [
    "df.shape"
   ]
  },
  {
   "cell_type": "code",
   "execution_count": 11,
   "metadata": {},
   "outputs": [],
   "source": [
    "import matplotlib.pyplot as plt"
   ]
  },
  {
   "cell_type": "code",
   "execution_count": 93,
   "metadata": {},
   "outputs": [
    {
     "data": {
      "text/html": [
       "<div>\n",
       "<style scoped>\n",
       "    .dataframe tbody tr th:only-of-type {\n",
       "        vertical-align: middle;\n",
       "    }\n",
       "\n",
       "    .dataframe tbody tr th {\n",
       "        vertical-align: top;\n",
       "    }\n",
       "\n",
       "    .dataframe thead th {\n",
       "        text-align: right;\n",
       "    }\n",
       "</style>\n",
       "<table border=\"1\" class=\"dataframe\">\n",
       "  <thead>\n",
       "    <tr style=\"text-align: right;\">\n",
       "      <th></th>\n",
       "      <th>_id</th>\n",
       "      <th>OCCUPANCY_DATE</th>\n",
       "      <th>SECTOR</th>\n",
       "      <th>SHELTER_POSTAL_CODE</th>\n",
       "      <th>CAPACITY</th>\n",
       "      <th>SHELTER_PROVINCE</th>\n",
       "      <th>FACILITY_NAME</th>\n",
       "      <th>SHELTER_NAME</th>\n",
       "      <th>OCCUPANCY</th>\n",
       "      <th>ORGANIZATION_NAME</th>\n",
       "      <th>SHELTER_ADDRESS</th>\n",
       "      <th>SHELTER_CITY</th>\n",
       "      <th>PROGRAM_NAME</th>\n",
       "      <th>id</th>\n",
       "      <th>DateRange</th>\n",
       "    </tr>\n",
       "  </thead>\n",
       "  <tbody>\n",
       "    <tr>\n",
       "      <th>0</th>\n",
       "      <td>260920</td>\n",
       "      <td>2020-01-01T00:00:00</td>\n",
       "      <td>Women</td>\n",
       "      <td>M5S 2P1</td>\n",
       "      <td>0</td>\n",
       "      <td>ON</td>\n",
       "      <td>COSTI - Radisson Hotel (Single)</td>\n",
       "      <td>COSTI Reception Centre</td>\n",
       "      <td>0</td>\n",
       "      <td>COSTI Immigrant Services</td>\n",
       "      <td>100 Lippincott Street</td>\n",
       "      <td>Toronto</td>\n",
       "      <td>COSTI - Radisson Hotel (Single Pregnant Women)</td>\n",
       "      <td>NaN</td>\n",
       "      <td>NaN</td>\n",
       "    </tr>\n",
       "    <tr>\n",
       "      <th>1</th>\n",
       "      <td>260921</td>\n",
       "      <td>2020-01-01T00:00:00</td>\n",
       "      <td>Families</td>\n",
       "      <td>M5S 2P1</td>\n",
       "      <td>560</td>\n",
       "      <td>ON</td>\n",
       "      <td>COSTI - Toronto Plaza Hotel(Fam)</td>\n",
       "      <td>COSTI Reception Centre</td>\n",
       "      <td>545</td>\n",
       "      <td>COSTI Immigrant Services</td>\n",
       "      <td>100 Lippincott Street</td>\n",
       "      <td>Toronto</td>\n",
       "      <td>COSTI - Toronto Plaza Hotel (Refugees)</td>\n",
       "      <td>NaN</td>\n",
       "      <td>NaN</td>\n",
       "    </tr>\n",
       "    <tr>\n",
       "      <th>2</th>\n",
       "      <td>260922</td>\n",
       "      <td>2020-01-01T00:00:00</td>\n",
       "      <td>Families</td>\n",
       "      <td>M5S 2P1</td>\n",
       "      <td>888</td>\n",
       "      <td>ON</td>\n",
       "      <td>COSTI Radisson Hotel</td>\n",
       "      <td>COSTI Reception Centre</td>\n",
       "      <td>778</td>\n",
       "      <td>COSTI Immigrant Services</td>\n",
       "      <td>100 Lippincott Street</td>\n",
       "      <td>Toronto</td>\n",
       "      <td>COSTI Radisson Hotel Family Program.</td>\n",
       "      <td>NaN</td>\n",
       "      <td>NaN</td>\n",
       "    </tr>\n",
       "    <tr>\n",
       "      <th>3</th>\n",
       "      <td>260923</td>\n",
       "      <td>2020-01-01T00:00:00</td>\n",
       "      <td>Co-ed</td>\n",
       "      <td>M5S 2P1</td>\n",
       "      <td>16</td>\n",
       "      <td>ON</td>\n",
       "      <td>COSTI Reception Centre</td>\n",
       "      <td>COSTI Reception Centre</td>\n",
       "      <td>16</td>\n",
       "      <td>COSTI Immigrant Services</td>\n",
       "      <td>100 Lippincott Street</td>\n",
       "      <td>Toronto</td>\n",
       "      <td>COSTI Reception Ctr CITY Program</td>\n",
       "      <td>NaN</td>\n",
       "      <td>NaN</td>\n",
       "    </tr>\n",
       "    <tr>\n",
       "      <th>4</th>\n",
       "      <td>260924</td>\n",
       "      <td>2020-01-01T00:00:00</td>\n",
       "      <td>Women</td>\n",
       "      <td>M5S 2P1</td>\n",
       "      <td>2</td>\n",
       "      <td>ON</td>\n",
       "      <td>COSTI Toronto Plaza Hotel (Sin)</td>\n",
       "      <td>COSTI Reception Centre</td>\n",
       "      <td>2</td>\n",
       "      <td>COSTI Immigrant Services</td>\n",
       "      <td>100 Lippincott Street</td>\n",
       "      <td>Toronto</td>\n",
       "      <td>COSTI - Toronto Plaza Hotel (Single Pregnant W...</td>\n",
       "      <td>NaN</td>\n",
       "      <td>NaN</td>\n",
       "    </tr>\n",
       "  </tbody>\n",
       "</table>\n",
       "</div>"
      ],
      "text/plain": [
       "      _id       OCCUPANCY_DATE    SECTOR SHELTER_POSTAL_CODE  CAPACITY  \\\n",
       "0  260920  2020-01-01T00:00:00     Women             M5S 2P1         0   \n",
       "1  260921  2020-01-01T00:00:00  Families             M5S 2P1       560   \n",
       "2  260922  2020-01-01T00:00:00  Families             M5S 2P1       888   \n",
       "3  260923  2020-01-01T00:00:00     Co-ed             M5S 2P1        16   \n",
       "4  260924  2020-01-01T00:00:00     Women             M5S 2P1         2   \n",
       "\n",
       "  SHELTER_PROVINCE                     FACILITY_NAME            SHELTER_NAME  \\\n",
       "0               ON   COSTI - Radisson Hotel (Single)  COSTI Reception Centre   \n",
       "1               ON  COSTI - Toronto Plaza Hotel(Fam)  COSTI Reception Centre   \n",
       "2               ON              COSTI Radisson Hotel  COSTI Reception Centre   \n",
       "3               ON            COSTI Reception Centre  COSTI Reception Centre   \n",
       "4               ON   COSTI Toronto Plaza Hotel (Sin)  COSTI Reception Centre   \n",
       "\n",
       "   OCCUPANCY         ORGANIZATION_NAME        SHELTER_ADDRESS SHELTER_CITY  \\\n",
       "0          0  COSTI Immigrant Services  100 Lippincott Street      Toronto   \n",
       "1        545  COSTI Immigrant Services  100 Lippincott Street      Toronto   \n",
       "2        778  COSTI Immigrant Services  100 Lippincott Street      Toronto   \n",
       "3         16  COSTI Immigrant Services  100 Lippincott Street      Toronto   \n",
       "4          2  COSTI Immigrant Services  100 Lippincott Street      Toronto   \n",
       "\n",
       "                                        PROGRAM_NAME  id  DateRange  \n",
       "0     COSTI - Radisson Hotel (Single Pregnant Women) NaN        NaN  \n",
       "1             COSTI - Toronto Plaza Hotel (Refugees) NaN        NaN  \n",
       "2               COSTI Radisson Hotel Family Program. NaN        NaN  \n",
       "3                   COSTI Reception Ctr CITY Program NaN        NaN  \n",
       "4  COSTI - Toronto Plaza Hotel (Single Pregnant W... NaN        NaN  "
      ]
     },
     "execution_count": 93,
     "metadata": {},
     "output_type": "execute_result"
    }
   ],
   "source": [
    "df.head()\n"
   ]
  },
  {
   "cell_type": "code",
   "execution_count": 16,
   "metadata": {},
   "outputs": [],
   "source": [
    "sector=df[df.SECTOR=='Women']\n"
   ]
  },
  {
   "cell_type": "code",
   "execution_count": null,
   "metadata": {},
   "outputs": [],
   "source": []
  },
  {
   "cell_type": "code",
   "execution_count": 17,
   "metadata": {},
   "outputs": [
    {
     "data": {
      "text/plain": [
       "73293"
      ]
     },
     "execution_count": 17,
     "metadata": {},
     "output_type": "execute_result"
    }
   ],
   "source": [
    "sector.OCCUPANCY.sum()\n"
   ]
  },
  {
   "cell_type": "code",
   "execution_count": 18,
   "metadata": {},
   "outputs": [
    {
     "data": {
      "text/plain": [
       "75464"
      ]
     },
     "execution_count": 18,
     "metadata": {},
     "output_type": "execute_result"
    }
   ],
   "source": [
    "sector.CAPACITY.sum()\n"
   ]
  },
  {
   "cell_type": "code",
   "execution_count": 19,
   "metadata": {},
   "outputs": [],
   "source": [
    "occupancy=np.zeros(5)"
   ]
  },
  {
   "cell_type": "code",
   "execution_count": 20,
   "metadata": {},
   "outputs": [],
   "source": [
    "occupancy[0]=sector.OCCUPANCY.sum()\n"
   ]
  },
  {
   "cell_type": "code",
   "execution_count": 21,
   "metadata": {},
   "outputs": [],
   "source": [
    "capacity=np.zeros(5)"
   ]
  },
  {
   "cell_type": "code",
   "execution_count": 22,
   "metadata": {},
   "outputs": [],
   "source": [
    "capacity[0]=sector.CAPACITY.sum()"
   ]
  },
  {
   "cell_type": "code",
   "execution_count": 23,
   "metadata": {},
   "outputs": [],
   "source": [
    "Toronto=np.zeros(5)\n",
    "Scarborough=np.zeros(5)\n",
    "Etobicoke=np.zeros(5)\n",
    "NorthYork=np.zeros(5)"
   ]
  },
  {
   "cell_type": "code",
   "execution_count": 24,
   "metadata": {},
   "outputs": [],
   "source": [
    "location=df.SHELTER_CITY.value_counts()"
   ]
  },
  {
   "cell_type": "code",
   "execution_count": 25,
   "metadata": {},
   "outputs": [
    {
     "data": {
      "text/plain": [
       "Toronto        7660\n",
       "Scarborough     525\n",
       "North York      225\n",
       "Etobicoke       150\n",
       "Name: SHELTER_CITY, dtype: int64"
      ]
     },
     "execution_count": 25,
     "metadata": {},
     "output_type": "execute_result"
    }
   ],
   "source": [
    "location"
   ]
  },
  {
   "cell_type": "code",
   "execution_count": 26,
   "metadata": {},
   "outputs": [],
   "source": [
    "women_shelter_location=sector.SHELTER_CITY.value_counts()"
   ]
  },
  {
   "cell_type": "code",
   "execution_count": 27,
   "metadata": {},
   "outputs": [],
   "source": [
    "women_shelter_location\n",
    "Toronto[0]=1875\n",
    "Scarborough[0]=150"
   ]
  },
  {
   "cell_type": "code",
   "execution_count": 28,
   "metadata": {},
   "outputs": [],
   "source": [
    "women_shelter_address=sector.SHELTER_ADDRESS.value_counts()"
   ]
  },
  {
   "cell_type": "code",
   "execution_count": 29,
   "metadata": {},
   "outputs": [
    {
     "data": {
      "text/plain": [
       "674 Dundas St. W              225\n",
       "3576 St. Clair Avenue East    150\n",
       "512 Jarvis St.                150\n",
       "100 Lippincott Street         150\n",
       "70 Gerrard St. E.             150\n",
       "86 Lombard St.                150\n",
       "2808 Dundas St W              150\n",
       "87 Pembroke St                150\n",
       "723 Queen Street West         150\n",
       "3410 Bayview Avenue            75\n",
       "80 Woodlawn Ave. East          75\n",
       "126 Pape Avenue                75\n",
       "1322 Bloor Street West         75\n",
       "702 Kennedy Rd                 75\n",
       "2671 Islington Avenue          75\n",
       "60 Newcastle Street            75\n",
       "348 Davenport Rd.              75\n",
       "Name: SHELTER_ADDRESS, dtype: int64"
      ]
     },
     "execution_count": 29,
     "metadata": {},
     "output_type": "execute_result"
    }
   ],
   "source": [
    "women_shelter_address"
   ]
  },
  {
   "cell_type": "code",
   "execution_count": 30,
   "metadata": {},
   "outputs": [
    {
     "ename": "SyntaxError",
     "evalue": "can't assign to literal (<ipython-input-30-9413da8c72af>, line 1)",
     "output_type": "error",
     "traceback": [
      "\u001b[0;36m  File \u001b[0;32m\"<ipython-input-30-9413da8c72af>\"\u001b[0;36m, line \u001b[0;32m1\u001b[0m\n\u001b[0;31m    East=6,West=4,North=7,South=0\u001b[0m\n\u001b[0m        ^\u001b[0m\n\u001b[0;31mSyntaxError\u001b[0m\u001b[0;31m:\u001b[0m can't assign to literal\n"
     ]
    }
   ],
   "source": [
    "East=6,West=4,North=7,South=0"
   ]
  },
  {
   "cell_type": "code",
   "execution_count": 31,
   "metadata": {},
   "outputs": [],
   "source": [
    "Male_sector=df[df.SECTOR=='Men']\n"
   ]
  },
  {
   "cell_type": "code",
   "execution_count": null,
   "metadata": {},
   "outputs": [],
   "source": []
  },
  {
   "cell_type": "code",
   "execution_count": 32,
   "metadata": {},
   "outputs": [
    {
     "data": {
      "text/plain": [
       "144018"
      ]
     },
     "execution_count": 32,
     "metadata": {},
     "output_type": "execute_result"
    }
   ],
   "source": [
    "Male_sector.OCCUPANCY.sum()"
   ]
  },
  {
   "cell_type": "code",
   "execution_count": 33,
   "metadata": {},
   "outputs": [],
   "source": [
    "occupancy[1]=Male_sector.OCCUPANCY.sum()"
   ]
  },
  {
   "cell_type": "code",
   "execution_count": 34,
   "metadata": {},
   "outputs": [],
   "source": [
    "capacity[1]=Male_sector.CAPACITY.sum()"
   ]
  },
  {
   "cell_type": "code",
   "execution_count": 35,
   "metadata": {},
   "outputs": [
    {
     "data": {
      "text/plain": [
       "145986"
      ]
     },
     "execution_count": 35,
     "metadata": {},
     "output_type": "execute_result"
    }
   ],
   "source": [
    "Male_sector.CAPACITY.sum()\n"
   ]
  },
  {
   "cell_type": "code",
   "execution_count": 36,
   "metadata": {},
   "outputs": [],
   "source": [
    "men_shelter_location=Male_sector.SHELTER_CITY.value_counts()"
   ]
  },
  {
   "cell_type": "code",
   "execution_count": 37,
   "metadata": {},
   "outputs": [
    {
     "data": {
      "text/plain": [
       "Toronto        2475\n",
       "Scarborough     225\n",
       "Name: SHELTER_CITY, dtype: int64"
      ]
     },
     "execution_count": 37,
     "metadata": {},
     "output_type": "execute_result"
    }
   ],
   "source": [
    "\n",
    "Toronto[1]=2475\n",
    "Scarborough[1]=225\n",
    "NorthYork[0]=0\n",
    "Etobicoke[0]=0\n",
    "NorthYork[1]=0\n",
    "Etobicoke[1]=0\n",
    "men_shelter_location"
   ]
  },
  {
   "cell_type": "code",
   "execution_count": 38,
   "metadata": {},
   "outputs": [],
   "source": [
    "men_shelter_address=df.SHELTER_ADDRESS.value_counts()"
   ]
  },
  {
   "cell_type": "code",
   "execution_count": 39,
   "metadata": {},
   "outputs": [
    {
     "data": {
      "text/plain": [
       "3576 St. Clair Avenue East          525\n",
       "339 George Street                   525\n",
       "100 Lippincott Street               375\n",
       "4222 Kingston Road                  310\n",
       "674 Dundas St. W                    300\n",
       "Sherbourne Street                   300\n",
       "38 Bathrust St                      300\n",
       "412 Queen Street East               225\n",
       "101 Ontario Street                  225\n",
       "1229 Ellesmere Road                 225\n",
       "20 Gerrard Street East              225\n",
       "25 Canterbury Place                 150\n",
       "191 Spadina Road                    150\n",
       "14 Vaughan Road                     150\n",
       "80 Woodlawn Ave. East               150\n",
       "86 Lombard St.                      150\n",
       "502 Spadina Ave.                    150\n",
       "348 Davenport Rd.                   150\n",
       "2808 Dundas St W                    150\n",
       "107 Jarvis Street                   150\n",
       "512 Jarvis St.                      150\n",
       "1161 Caledonia Road                 150\n",
       "70 Gerrard St. E.                   150\n",
       "973 Lansdowne Avenue                150\n",
       "2714 Danforth Avenue                150\n",
       "2671 Islington Avenue               150\n",
       "490 Sherbourne Street, 2nd floor    150\n",
       "129 Peter St                        150\n",
       "723 Queen Street West               150\n",
       "525 Bloor Street East               150\n",
       "87 Pembroke St                      150\n",
       "747 Warden Ave                      150\n",
       "805A Wellington Street W            150\n",
       "6 Warrendale Court                  150\n",
       "60 Newcastle Street                  75\n",
       "349 George Street                    75\n",
       "7 Vanauley Street                    75\n",
       "875 Queen St E                       75\n",
       "360 Lesmill Road                     75\n",
       "60 Brant Street                      75\n",
       "1651 Sheppard Ave West               75\n",
       "3306 Kingston Road                   75\n",
       "3410 Bayview Avenue                  75\n",
       "702 Kennedy Rd                       75\n",
       "29 Leslie Street                     75\n",
       "1076 Pape Avenue                     75\n",
       "95 Wellesley St. E.                  75\n",
       "1322 Bloor Street West               75\n",
       "422 Gilbert Avenue                   75\n",
       "291 Sherbourne Street                75\n",
       "21 Walmer Rd.                        75\n",
       "616 Vaughan Road Toronto             75\n",
       "558 Bathurst Street                  75\n",
       "126 Pape Avenue                      75\n",
       "43 Christie Street                   75\n",
       "Name: SHELTER_ADDRESS, dtype: int64"
      ]
     },
     "execution_count": 39,
     "metadata": {},
     "output_type": "execute_result"
    }
   ],
   "source": [
    "men_shelter_address"
   ]
  },
  {
   "cell_type": "code",
   "execution_count": 40,
   "metadata": {},
   "outputs": [],
   "source": [
    "youth_sector=df[df.SECTOR=='Youth']"
   ]
  },
  {
   "cell_type": "code",
   "execution_count": 41,
   "metadata": {},
   "outputs": [],
   "source": [
    "youth_sector.SHELTER_CITY.value_counts()\n",
    "Toronto[2]=900\n",
    "Scarborough[2]=0\n",
    "NorthYork[2]=225\n",
    "Etobicoke[2]=150"
   ]
  },
  {
   "cell_type": "code",
   "execution_count": 42,
   "metadata": {},
   "outputs": [],
   "source": [
    "occupancy[2]=youth_sector.OCCUPANCY.sum()"
   ]
  },
  {
   "cell_type": "code",
   "execution_count": null,
   "metadata": {},
   "outputs": [],
   "source": []
  },
  {
   "cell_type": "code",
   "execution_count": 43,
   "metadata": {},
   "outputs": [
    {
     "data": {
      "text/plain": [
       "40890"
      ]
     },
     "execution_count": 43,
     "metadata": {},
     "output_type": "execute_result"
    }
   ],
   "source": [
    "youth_sector.CAPACITY.sum()"
   ]
  },
  {
   "cell_type": "code",
   "execution_count": 44,
   "metadata": {},
   "outputs": [],
   "source": [
    "capacity[2]=youth_sector.CAPACITY.sum()"
   ]
  },
  {
   "cell_type": "code",
   "execution_count": 45,
   "metadata": {},
   "outputs": [
    {
     "data": {
      "text/plain": [
       "Men         2700\n",
       "Women       2025\n",
       "Co-ed       1425\n",
       "Youth       1275\n",
       "Families    1135\n",
       "Name: SECTOR, dtype: int64"
      ]
     },
     "execution_count": 45,
     "metadata": {},
     "output_type": "execute_result"
    }
   ],
   "source": [
    "df.SECTOR.value_counts()"
   ]
  },
  {
   "cell_type": "code",
   "execution_count": 46,
   "metadata": {},
   "outputs": [],
   "source": [
    "Co_ed=df[df.SECTOR=='Co-ed']"
   ]
  },
  {
   "cell_type": "code",
   "execution_count": 47,
   "metadata": {},
   "outputs": [
    {
     "data": {
      "text/plain": [
       "Toronto        1275\n",
       "Scarborough     150\n",
       "Name: SHELTER_CITY, dtype: int64"
      ]
     },
     "execution_count": 47,
     "metadata": {},
     "output_type": "execute_result"
    }
   ],
   "source": [
    "occupancy[3]=Co_ed.OCCUPANCY.sum()\n",
    "Co_ed.SHELTER_CITY.value_counts()"
   ]
  },
  {
   "cell_type": "code",
   "execution_count": 48,
   "metadata": {},
   "outputs": [],
   "source": [
    "occupancy[3]\n",
    "\n",
    "Toronto[3]=1275\n",
    "Scarborough[3]=150\n",
    "NorthYork[3]=0\n",
    "Etobicoke[3]=0"
   ]
  },
  {
   "cell_type": "code",
   "execution_count": 49,
   "metadata": {},
   "outputs": [],
   "source": [
    "capacity[3]=Co_ed.CAPACITY.sum()"
   ]
  },
  {
   "cell_type": "code",
   "execution_count": 50,
   "metadata": {},
   "outputs": [
    {
     "data": {
      "text/plain": [
       "60894.0"
      ]
     },
     "execution_count": 50,
     "metadata": {},
     "output_type": "execute_result"
    }
   ],
   "source": [
    "capacity[3]"
   ]
  },
  {
   "cell_type": "code",
   "execution_count": 51,
   "metadata": {},
   "outputs": [],
   "source": [
    "youth_shelter_location=youth_sector.SHELTER_CITY.value_counts()"
   ]
  },
  {
   "cell_type": "code",
   "execution_count": 52,
   "metadata": {},
   "outputs": [
    {
     "data": {
      "text/plain": [
       "Toronto       900\n",
       "North York    225\n",
       "Etobicoke     150\n",
       "Name: SHELTER_CITY, dtype: int64"
      ]
     },
     "execution_count": 52,
     "metadata": {},
     "output_type": "execute_result"
    }
   ],
   "source": [
    "youth_shelter_location\n"
   ]
  },
  {
   "cell_type": "code",
   "execution_count": 53,
   "metadata": {},
   "outputs": [],
   "source": [
    "youth_shelter_address=youth_sector.SHELTER_ADDRESS.value_counts()"
   ]
  },
  {
   "cell_type": "code",
   "execution_count": 54,
   "metadata": {},
   "outputs": [
    {
     "data": {
      "text/plain": [
       "20 Gerrard Street East    225\n",
       "25 Canterbury Place       150\n",
       "6 Warrendale Court        150\n",
       "21 Walmer Rd.              75\n",
       "80 Woodlawn Ave. East      75\n",
       "7 Vanauley Street          75\n",
       "1076 Pape Avenue           75\n",
       "348 Davenport Rd.          75\n",
       "558 Bathurst Street        75\n",
       "360 Lesmill Road           75\n",
       "422 Gilbert Avenue         75\n",
       "60 Brant Street            75\n",
       "95 Wellesley St. E.        75\n",
       "Name: SHELTER_ADDRESS, dtype: int64"
      ]
     },
     "execution_count": 54,
     "metadata": {},
     "output_type": "execute_result"
    }
   ],
   "source": [
    "youth_shelter_address"
   ]
  },
  {
   "cell_type": "code",
   "execution_count": 55,
   "metadata": {},
   "outputs": [],
   "source": [
    "Co_ed_shelter_location=Co_ed.SHELTER_CITY.value_counts()\n"
   ]
  },
  {
   "cell_type": "code",
   "execution_count": 56,
   "metadata": {},
   "outputs": [],
   "source": [
    "Co_ed_shelter_address=Co_ed.SHELTER_ADDRESS.value_counts()"
   ]
  },
  {
   "cell_type": "code",
   "execution_count": 57,
   "metadata": {},
   "outputs": [
    {
     "data": {
      "text/plain": [
       "(Toronto        1275\n",
       " Scarborough     150\n",
       " Name: SHELTER_CITY, dtype: int64, 490 Sherbourne Street, 2nd floor    150\n",
       " 3576 St. Clair Avenue East          150\n",
       " 747 Warden Ave                      150\n",
       " 805A Wellington Street W            150\n",
       " 1161 Caledonia Road                 150\n",
       " 2714 Danforth Avenue                150\n",
       " 191 Spadina Road                     75\n",
       " 129 Peter St                         75\n",
       " 339 George Street                    75\n",
       " 101 Ontario Street                   75\n",
       " 100 Lippincott Street                75\n",
       " 674 Dundas St. W                     75\n",
       " 38 Bathrust St                       75\n",
       " Name: SHELTER_ADDRESS, dtype: int64)"
      ]
     },
     "execution_count": 57,
     "metadata": {},
     "output_type": "execute_result"
    }
   ],
   "source": [
    "Co_ed_shelter_location,Co_ed_shelter_address"
   ]
  },
  {
   "cell_type": "code",
   "execution_count": 58,
   "metadata": {},
   "outputs": [],
   "source": [
    "families=df[df.SECTOR=='Families']"
   ]
  },
  {
   "cell_type": "code",
   "execution_count": 59,
   "metadata": {},
   "outputs": [],
   "source": [
    "occupancy[4]=families.OCCUPANCY.sum()\n",
    "capacity[4]=families.CAPACITY.sum()\n",
    "families.SHELTER_CITY.value_counts()\n",
    "Toronto[4]=1135\n",
    "Scarborough[4]=0\n",
    "NorthYork[4]=0\n",
    "Etobicoke[4]=0"
   ]
  },
  {
   "cell_type": "code",
   "execution_count": 60,
   "metadata": {},
   "outputs": [
    {
     "data": {
      "text/plain": [
       "array([ 73293., 144018.,  40118.,  59191., 195726.])"
      ]
     },
     "execution_count": 60,
     "metadata": {},
     "output_type": "execute_result"
    }
   ],
   "source": [
    "occupancy"
   ]
  },
  {
   "cell_type": "code",
   "execution_count": 61,
   "metadata": {},
   "outputs": [
    {
     "data": {
      "text/plain": [
       "array([ 75464., 145986.,  40890.,  60894., 221656.])"
      ]
     },
     "execution_count": 61,
     "metadata": {},
     "output_type": "execute_result"
    }
   ],
   "source": [
    "capacity"
   ]
  },
  {
   "cell_type": "code",
   "execution_count": 62,
   "metadata": {},
   "outputs": [],
   "source": [
    "index=np.arange(len(capacity))\n"
   ]
  },
  {
   "cell_type": "code",
   "execution_count": 63,
   "metadata": {},
   "outputs": [
    {
     "data": {
      "text/plain": [
       "<matplotlib.legend.Legend at 0x7fdb3fd10f28>"
      ]
     },
     "execution_count": 63,
     "metadata": {},
     "output_type": "execute_result"
    },
    {
     "data": {
      "image/png": "[encoded data removed]",
      "text/plain": [
       "<Figure size 720x432 with 1 Axes>"
      ]
     },
     "metadata": {
      "needs_background": "light"
     },
     "output_type": "display_data"
    }
   ],
   "source": [
    "ax=plt.subplots()\n",
    "bar_width = 0.35\n",
    "opacity = 0.8\n",
    "\n",
    "rects1 = plt.bar(index, capacity, bar_width,\n",
    "alpha=opacity,\n",
    "color='b',\n",
    "label='Capacity')\n",
    "rects2=plt.bar(index+bar_width, occupancy, bar_width,\n",
    "alpha=opacity,\n",
    "color='r',\n",
    "label='Occupancy')\n",
    "\n",
    "plt.title('Present Year')\n",
    "plt.xticks(index + bar_width, ('Female', 'Male', 'Youth', 'Co-ed','Families'))\n",
    "plt.legend()"
   ]
  },
  {
   "cell_type": "code",
   "execution_count": 95,
   "metadata": {},
   "outputs": [
    {
     "data": {
      "text/plain": [
       "<matplotlib.legend.Legend at 0x7fdb3f471358>"
      ]
     },
     "execution_count": 95,
     "metadata": {},
     "output_type": "execute_result"
    },
    {
     "data": {
      "image/png": "[encoded data removed]",
      "text/plain": [
       "<Figure size 432x360 with 1 Axes>"
      ]
     },
     "metadata": {
      "needs_background": "light"
     },
     "output_type": "display_data"
    }
   ],
   "source": [
    "Shelters=np.array([2025,2700,1425,1275,1135])\n",
    "rects1 = plt.bar(index, Shelters, bar_width,\n",
    "alpha=opacity,\n",
    "color='g',\n",
    "label='Program numbers')\n",
    "plt.title('Present Year')\n",
    "plt.xticks(index, ('Female', 'Male', 'Youth', 'Co-ed','Families'))\n",
    "plt.legend()"
   ]
  },
  {
   "cell_type": "code",
   "execution_count": 65,
   "metadata": {},
   "outputs": [
    {
     "data": {
      "text/plain": [
       "array([1875., 2475.,  900., 1275., 1135.])"
      ]
     },
     "execution_count": 65,
     "metadata": {},
     "output_type": "execute_result"
    }
   ],
   "source": [
    "Toronto"
   ]
  },
  {
   "cell_type": "code",
   "execution_count": 66,
   "metadata": {},
   "outputs": [
    {
     "data": {
      "text/plain": [
       "array([  0.,   0., 150.,   0.,   0.])"
      ]
     },
     "execution_count": 66,
     "metadata": {},
     "output_type": "execute_result"
    }
   ],
   "source": [
    "Etobicoke"
   ]
  },
  {
   "cell_type": "code",
   "execution_count": 67,
   "metadata": {},
   "outputs": [
    {
     "data": {
      "text/plain": [
       "array([150., 225.,   0., 150.,   0.])"
      ]
     },
     "execution_count": 67,
     "metadata": {},
     "output_type": "execute_result"
    }
   ],
   "source": [
    "Scarborough"
   ]
  },
  {
   "cell_type": "code",
   "execution_count": 68,
   "metadata": {},
   "outputs": [
    {
     "data": {
      "text/plain": [
       "array([  0.,   0., 225.,   0.,   0.])"
      ]
     },
     "execution_count": 68,
     "metadata": {},
     "output_type": "execute_result"
    }
   ],
   "source": [
    "NorthYork"
   ]
  },
  {
   "cell_type": "code",
   "execution_count": 69,
   "metadata": {},
   "outputs": [
    {
     "data": {
      "text/plain": [
       "<matplotlib.legend.Legend at 0x7fdb3fc5d7f0>"
      ]
     },
     "execution_count": 69,
     "metadata": {},
     "output_type": "execute_result"
    },
    {
     "data": {
      "image/png": "[encoded data removed]",
      "text/plain": [
       "<Figure size 720x432 with 1 Axes>"
      ]
     },
     "metadata": {
      "needs_background": "light"
     },
     "output_type": "display_data"
    }
   ],
   "source": [
    "bx=plt.subplots()\n",
    "bar_width = 0.25\n",
    "opacity = 0.8\n",
    "\n",
    "rects1 = plt.bar(index, Toronto, bar_width,\n",
    "alpha=opacity,\n",
    "color='b',\n",
    "label='Toronto')\n",
    "rects2=plt.bar(index+bar_width, Scarborough, bar_width,\n",
    "alpha=opacity,\n",
    "color='r',\n",
    "label='Scarborough')\n",
    "rects3=plt.bar(index+2*bar_width, Etobicoke, bar_width,\n",
    "alpha=opacity,\n",
    "color='g',\n",
    "label='Etobicoke')\n",
    "rects3=plt.bar(index+3*bar_width, NorthYork, bar_width,\n",
    "alpha=opacity,\n",
    "color='#FFA500',\n",
    "label='NorthYork')\n",
    "\n",
    "plt.title('Present Year')\n",
    "plt.xticks(index + bar_width, ('Female', 'Male', 'Youth', 'Co-ed','Families'))\n",
    "plt.legend()"
   ]
  },
  {
   "cell_type": "code",
   "execution_count": 70,
   "metadata": {},
   "outputs": [
    {
     "data": {
      "text/plain": [
       "HFS - Scarborough Shelter           525\n",
       "Seaton House                        525\n",
       "COSTI Reception Centre              375\n",
       "Family Residence                    310\n",
       "Women's Residence                   300\n",
       "Fort York Residence                 300\n",
       "Salvation Army - Maxwell Meighen    300\n",
       "Covenant House                      225\n",
       "Good Shepherd Centre                225\n",
       "Sojourn House                       225\n",
       "Birkdale Residence                  225\n",
       "Fife House Transitional Program     150\n",
       "Eva's Satellite                     150\n",
       "Dixon Hall - Heyworth House         150\n",
       "Salvation Army - Gateway            150\n",
       "Salvation Army Islington Seniors    150\n",
       "YouthLink Shelter                   150\n",
       "FV Women's Transition to Housing    150\n",
       "SVDP - Mary's Home                  150\n",
       "St. Simon's Shelter                 150\n",
       "Streets To Homes                    150\n",
       "Salvation Army - Florence Booth     150\n",
       "Toronto Community Hostel            150\n",
       "YWCA-348 Davenport                  150\n",
       "Scott Mission Men's Ministry        150\n",
       "Fred Victor, BUS                    150\n",
       "YWCA - First Stop Woodlawn          150\n",
       "Na-Me-Res                           150\n",
       "Street Haven                        150\n",
       "Youth Without Shelter               150\n",
       "Salvation Army - Evangeline Res     150\n",
       "HFS - Strachan House                150\n",
       "Christie Ossington Men's Hostel     150\n",
       "Fred Victor Women's Hostel          150\n",
       "Dixon Hall - Schoolhouse             75\n",
       "Cornerstone Place                    75\n",
       "Eva's Place                          75\n",
       "SVDP - St. Clare's Residence         75\n",
       "Horizons for Youth                   75\n",
       "Christie Refugee Welcome Centre      75\n",
       "Robertson House                      75\n",
       "SVDP - Elisa House                   75\n",
       "Turning Point Youth Services         75\n",
       "Scarborough Village Residence        75\n",
       "Salvation Army - New Hope Leslie     75\n",
       "Eva's Phoenix                        75\n",
       "Kennedy House Youth Shelter          75\n",
       "Downsview Dells                      75\n",
       "Red Door Queen Street                75\n",
       "YMCA Sprott House                    75\n",
       "HFS - Kennedy Shelter                75\n",
       "HFS - Savard's Womens' Shelter       75\n",
       "Eagles Nest Transition House         75\n",
       "YMCA House                           75\n",
       "SVDP - Amelie House                  75\n",
       "Name: SHELTER_NAME, dtype: int64"
      ]
     },
     "execution_count": 70,
     "metadata": {},
     "output_type": "execute_result"
    }
   ],
   "source": [
    "df.SHELTER_NAME.value_counts()\n"
   ]
  },
  {
   "cell_type": "code",
   "execution_count": 98,
   "metadata": {},
   "outputs": [],
   "source": [
    "programs=df.SHELTER_NAME.value_counts()"
   ]
  },
  {
   "cell_type": "code",
   "execution_count": 99,
   "metadata": {},
   "outputs": [
    {
     "data": {
      "text/plain": [
       "55"
      ]
     },
     "execution_count": 99,
     "metadata": {},
     "output_type": "execute_result"
    }
   ],
   "source": [
    "programs.count()"
   ]
  },
  {
   "cell_type": "code",
   "execution_count": 100,
   "metadata": {},
   "outputs": [],
   "source": [
    "fiftyseven=np.arange(55)"
   ]
  },
  {
   "cell_type": "code",
   "execution_count": 106,
   "metadata": {},
   "outputs": [
    {
     "data": {
      "text/plain": [
       "<matplotlib.legend.Legend at 0x7fdb3efe4d68>"
      ]
     },
     "execution_count": 106,
     "metadata": {},
     "output_type": "execute_result"
    },
    {
     "data": {
      "image/png": "[encoded data removed]",
      "text/plain": [
       "<Figure size 504x360 with 1 Axes>"
      ]
     },
     "metadata": {
      "needs_background": "light"
     },
     "output_type": "display_data"
    }
   ],
   "source": [
    "plt.rcParams['figure.figsize']=[7,5]\n",
    "bx=plt.subplots()\n",
    "bar_width = 0.45\n",
    "opacity = 0.8\n",
    "rects1 = plt.bar(fiftyseven, programs, bar_width,\n",
    "alpha=opacity,\n",
    "color='#990099',\n",
    "label='Program numbers')\n",
    "plt.title('2020')\n",
    "\n",
    "plt.legend()"
   ]
  },
  {
   "cell_type": "code",
   "execution_count": 85,
   "metadata": {},
   "outputs": [
    {
     "ename": "ValueError",
     "evalue": "shape mismatch: objects cannot be broadcast to a single shape",
     "output_type": "error",
     "traceback": [
      "\u001b[0;31m---------------------------------------------------------------------------\u001b[0m",
      "\u001b[0;31mValueError\u001b[0m                                Traceback (most recent call last)",
      "\u001b[0;32m<ipython-input-85-84fcdc0df290>\u001b[0m in \u001b[0;36m<module>\u001b[0;34m\u001b[0m\n\u001b[1;32m      3\u001b[0m \u001b[0malpha\u001b[0m\u001b[0;34m=\u001b[0m\u001b[0mopacity\u001b[0m\u001b[0;34m,\u001b[0m\u001b[0;34m\u001b[0m\u001b[0;34m\u001b[0m\u001b[0m\n\u001b[1;32m      4\u001b[0m \u001b[0mcolor\u001b[0m\u001b[0;34m=\u001b[0m\u001b[0;34m'#800080'\u001b[0m\u001b[0;34m,\u001b[0m\u001b[0;34m\u001b[0m\u001b[0;34m\u001b[0m\u001b[0m\n\u001b[0;32m----> 5\u001b[0;31m label='Program numbers')\n\u001b[0m\u001b[1;32m      6\u001b[0m \u001b[0mplt\u001b[0m\u001b[0;34m.\u001b[0m\u001b[0mtitle\u001b[0m\u001b[0;34m(\u001b[0m\u001b[0;34m'Present'\u001b[0m\u001b[0;34m)\u001b[0m\u001b[0;34m\u001b[0m\u001b[0;34m\u001b[0m\u001b[0m\n\u001b[1;32m      7\u001b[0m \u001b[0;34m\u001b[0m\u001b[0m\n",
      "\u001b[0;32m~/anaconda3/lib/python3.7/site-packages/matplotlib/pyplot.py\u001b[0m in \u001b[0;36mbar\u001b[0;34m(x, height, width, bottom, align, data, **kwargs)\u001b[0m\n\u001b[1;32m   2432\u001b[0m     return gca().bar(\n\u001b[1;32m   2433\u001b[0m         \u001b[0mx\u001b[0m\u001b[0;34m,\u001b[0m \u001b[0mheight\u001b[0m\u001b[0;34m,\u001b[0m \u001b[0mwidth\u001b[0m\u001b[0;34m=\u001b[0m\u001b[0mwidth\u001b[0m\u001b[0;34m,\u001b[0m \u001b[0mbottom\u001b[0m\u001b[0;34m=\u001b[0m\u001b[0mbottom\u001b[0m\u001b[0;34m,\u001b[0m \u001b[0malign\u001b[0m\u001b[0;34m=\u001b[0m\u001b[0malign\u001b[0m\u001b[0;34m,\u001b[0m\u001b[0;34m\u001b[0m\u001b[0;34m\u001b[0m\u001b[0m\n\u001b[0;32m-> 2434\u001b[0;31m         **({\"data\": data} if data is not None else {}), **kwargs)\n\u001b[0m\u001b[1;32m   2435\u001b[0m \u001b[0;34m\u001b[0m\u001b[0m\n\u001b[1;32m   2436\u001b[0m \u001b[0;34m\u001b[0m\u001b[0m\n",
      "\u001b[0;32m~/anaconda3/lib/python3.7/site-packages/matplotlib/__init__.py\u001b[0m in \u001b[0;36minner\u001b[0;34m(ax, data, *args, **kwargs)\u001b[0m\n\u001b[1;32m   1587\u001b[0m     \u001b[0;32mdef\u001b[0m \u001b[0minner\u001b[0m\u001b[0;34m(\u001b[0m\u001b[0max\u001b[0m\u001b[0;34m,\u001b[0m \u001b[0;34m*\u001b[0m\u001b[0margs\u001b[0m\u001b[0;34m,\u001b[0m \u001b[0mdata\u001b[0m\u001b[0;34m=\u001b[0m\u001b[0;32mNone\u001b[0m\u001b[0;34m,\u001b[0m \u001b[0;34m**\u001b[0m\u001b[0mkwargs\u001b[0m\u001b[0;34m)\u001b[0m\u001b[0;34m:\u001b[0m\u001b[0;34m\u001b[0m\u001b[0;34m\u001b[0m\u001b[0m\n\u001b[1;32m   1588\u001b[0m         \u001b[0;32mif\u001b[0m \u001b[0mdata\u001b[0m \u001b[0;32mis\u001b[0m \u001b[0;32mNone\u001b[0m\u001b[0;34m:\u001b[0m\u001b[0;34m\u001b[0m\u001b[0;34m\u001b[0m\u001b[0m\n\u001b[0;32m-> 1589\u001b[0;31m             \u001b[0;32mreturn\u001b[0m \u001b[0mfunc\u001b[0m\u001b[0;34m(\u001b[0m\u001b[0max\u001b[0m\u001b[0;34m,\u001b[0m \u001b[0;34m*\u001b[0m\u001b[0mmap\u001b[0m\u001b[0;34m(\u001b[0m\u001b[0msanitize_sequence\u001b[0m\u001b[0;34m,\u001b[0m \u001b[0margs\u001b[0m\u001b[0;34m)\u001b[0m\u001b[0;34m,\u001b[0m \u001b[0;34m**\u001b[0m\u001b[0mkwargs\u001b[0m\u001b[0;34m)\u001b[0m\u001b[0;34m\u001b[0m\u001b[0;34m\u001b[0m\u001b[0m\n\u001b[0m\u001b[1;32m   1590\u001b[0m \u001b[0;34m\u001b[0m\u001b[0m\n\u001b[1;32m   1591\u001b[0m         \u001b[0mbound\u001b[0m \u001b[0;34m=\u001b[0m \u001b[0mnew_sig\u001b[0m\u001b[0;34m.\u001b[0m\u001b[0mbind\u001b[0m\u001b[0;34m(\u001b[0m\u001b[0max\u001b[0m\u001b[0;34m,\u001b[0m \u001b[0;34m*\u001b[0m\u001b[0margs\u001b[0m\u001b[0;34m,\u001b[0m \u001b[0;34m**\u001b[0m\u001b[0mkwargs\u001b[0m\u001b[0;34m)\u001b[0m\u001b[0;34m\u001b[0m\u001b[0;34m\u001b[0m\u001b[0m\n",
      "\u001b[0;32m~/anaconda3/lib/python3.7/site-packages/matplotlib/axes/_axes.py\u001b[0m in \u001b[0;36mbar\u001b[0;34m(self, x, height, width, bottom, align, **kwargs)\u001b[0m\n\u001b[1;32m   2373\u001b[0m         x, height, width, y, linewidth = np.broadcast_arrays(\n\u001b[1;32m   2374\u001b[0m             \u001b[0;31m# Make args iterable too.\u001b[0m\u001b[0;34m\u001b[0m\u001b[0;34m\u001b[0m\u001b[0;34m\u001b[0m\u001b[0m\n\u001b[0;32m-> 2375\u001b[0;31m             np.atleast_1d(x), height, width, y, linewidth)\n\u001b[0m\u001b[1;32m   2376\u001b[0m \u001b[0;34m\u001b[0m\u001b[0m\n\u001b[1;32m   2377\u001b[0m         \u001b[0;31m# Now that units have been converted, set the tick locations.\u001b[0m\u001b[0;34m\u001b[0m\u001b[0;34m\u001b[0m\u001b[0;34m\u001b[0m\u001b[0m\n",
      "\u001b[0;32m~/anaconda3/lib/python3.7/site-packages/numpy/lib/stride_tricks.py\u001b[0m in \u001b[0;36mbroadcast_arrays\u001b[0;34m(*args, **kwargs)\u001b[0m\n\u001b[1;32m    257\u001b[0m     \u001b[0margs\u001b[0m \u001b[0;34m=\u001b[0m \u001b[0;34m[\u001b[0m\u001b[0mnp\u001b[0m\u001b[0;34m.\u001b[0m\u001b[0marray\u001b[0m\u001b[0;34m(\u001b[0m\u001b[0m_m\u001b[0m\u001b[0;34m,\u001b[0m \u001b[0mcopy\u001b[0m\u001b[0;34m=\u001b[0m\u001b[0;32mFalse\u001b[0m\u001b[0;34m,\u001b[0m \u001b[0msubok\u001b[0m\u001b[0;34m=\u001b[0m\u001b[0msubok\u001b[0m\u001b[0;34m)\u001b[0m \u001b[0;32mfor\u001b[0m \u001b[0m_m\u001b[0m \u001b[0;32min\u001b[0m \u001b[0margs\u001b[0m\u001b[0;34m]\u001b[0m\u001b[0;34m\u001b[0m\u001b[0;34m\u001b[0m\u001b[0m\n\u001b[1;32m    258\u001b[0m \u001b[0;34m\u001b[0m\u001b[0m\n\u001b[0;32m--> 259\u001b[0;31m     \u001b[0mshape\u001b[0m \u001b[0;34m=\u001b[0m \u001b[0m_broadcast_shape\u001b[0m\u001b[0;34m(\u001b[0m\u001b[0;34m*\u001b[0m\u001b[0margs\u001b[0m\u001b[0;34m)\u001b[0m\u001b[0;34m\u001b[0m\u001b[0;34m\u001b[0m\u001b[0m\n\u001b[0m\u001b[1;32m    260\u001b[0m \u001b[0;34m\u001b[0m\u001b[0m\n\u001b[1;32m    261\u001b[0m     \u001b[0;32mif\u001b[0m \u001b[0mall\u001b[0m\u001b[0;34m(\u001b[0m\u001b[0marray\u001b[0m\u001b[0;34m.\u001b[0m\u001b[0mshape\u001b[0m \u001b[0;34m==\u001b[0m \u001b[0mshape\u001b[0m \u001b[0;32mfor\u001b[0m \u001b[0marray\u001b[0m \u001b[0;32min\u001b[0m \u001b[0margs\u001b[0m\u001b[0;34m)\u001b[0m\u001b[0;34m:\u001b[0m\u001b[0;34m\u001b[0m\u001b[0;34m\u001b[0m\u001b[0m\n",
      "\u001b[0;32m~/anaconda3/lib/python3.7/site-packages/numpy/lib/stride_tricks.py\u001b[0m in \u001b[0;36m_broadcast_shape\u001b[0;34m(*args)\u001b[0m\n\u001b[1;32m    191\u001b[0m     \u001b[0;31m# use the old-iterator because np.nditer does not handle size 0 arrays\u001b[0m\u001b[0;34m\u001b[0m\u001b[0;34m\u001b[0m\u001b[0;34m\u001b[0m\u001b[0m\n\u001b[1;32m    192\u001b[0m     \u001b[0;31m# consistently\u001b[0m\u001b[0;34m\u001b[0m\u001b[0;34m\u001b[0m\u001b[0;34m\u001b[0m\u001b[0m\n\u001b[0;32m--> 193\u001b[0;31m     \u001b[0mb\u001b[0m \u001b[0;34m=\u001b[0m \u001b[0mnp\u001b[0m\u001b[0;34m.\u001b[0m\u001b[0mbroadcast\u001b[0m\u001b[0;34m(\u001b[0m\u001b[0;34m*\u001b[0m\u001b[0margs\u001b[0m\u001b[0;34m[\u001b[0m\u001b[0;34m:\u001b[0m\u001b[0;36m32\u001b[0m\u001b[0;34m]\u001b[0m\u001b[0;34m)\u001b[0m\u001b[0;34m\u001b[0m\u001b[0;34m\u001b[0m\u001b[0m\n\u001b[0m\u001b[1;32m    194\u001b[0m     \u001b[0;31m# unfortunately, it cannot handle 32 or more arguments directly\u001b[0m\u001b[0;34m\u001b[0m\u001b[0;34m\u001b[0m\u001b[0;34m\u001b[0m\u001b[0m\n\u001b[1;32m    195\u001b[0m     \u001b[0;32mfor\u001b[0m \u001b[0mpos\u001b[0m \u001b[0;32min\u001b[0m \u001b[0mrange\u001b[0m\u001b[0;34m(\u001b[0m\u001b[0;36m32\u001b[0m\u001b[0;34m,\u001b[0m \u001b[0mlen\u001b[0m\u001b[0;34m(\u001b[0m\u001b[0margs\u001b[0m\u001b[0;34m)\u001b[0m\u001b[0;34m,\u001b[0m \u001b[0;36m31\u001b[0m\u001b[0;34m)\u001b[0m\u001b[0;34m:\u001b[0m\u001b[0;34m\u001b[0m\u001b[0;34m\u001b[0m\u001b[0m\n",
      "\u001b[0;31mValueError\u001b[0m: shape mismatch: objects cannot be broadcast to a single shape"
     ]
    },
    {
     "data": {
      "image/png": "[encoded data removed]",
      "text/plain": [
       "<Figure size 720x432 with 1 Axes>"
      ]
     },
     "metadata": {
      "needs_background": "light"
     },
     "output_type": "display_data"
    }
   ],
   "source": [
    "#plt.rcParams['figure.figsize']=[10,6]\n",
    "rects1 = plt.bar(fiftyseven, programs, 0.6,\n",
    "alpha=opacity,\n",
    "color='#800080',\n",
    "label='Program numbers')\n",
    "plt.title('Present')\n",
    "\n",
    "plt.legend()"
   ]
  },
  {
   "cell_type": "code",
   "execution_count": 76,
   "metadata": {},
   "outputs": [],
   "source": [
    "programs=sector.SHELTER_NAME.value_counts()\n",
    "programs_male=Male_sector.SHELTER_NAME.value_counts()\n",
    "programs_youth=youth_sector.SHELTER_NAME.value_counts()\n",
    "programs_Co_ed=Co_ed.SHELTER_NAME.value_counts()\n",
    "programs_Families=families.SHELTER_NAME.value_counts()"
   ]
  },
  {
   "cell_type": "code",
   "execution_count": 81,
   "metadata": {},
   "outputs": [
    {
     "data": {
      "text/plain": [
       "8"
      ]
     },
     "execution_count": 81,
     "metadata": {},
     "output_type": "execute_result"
    }
   ],
   "source": [
    "programs_Families.count()\n"
   ]
  },
  {
   "cell_type": "code",
   "execution_count": 86,
   "metadata": {},
   "outputs": [],
   "source": [
    "fiftyseven=np.arange(5)\n",
    "shelter_count=[17,17,13,13,8]"
   ]
  },
  {
   "cell_type": "code",
   "execution_count": 94,
   "metadata": {},
   "outputs": [
    {
     "data": {
      "text/plain": [
       "<matplotlib.legend.Legend at 0x7fdb3f5080b8>"
      ]
     },
     "execution_count": 94,
     "metadata": {},
     "output_type": "execute_result"
    },
    {
     "data": {
      "image/png": "[encoded data removed]",
      "text/plain": [
       "<Figure size 432x360 with 1 Axes>"
      ]
     },
     "metadata": {
      "needs_background": "light"
     },
     "output_type": "display_data"
    }
   ],
   "source": [
    "plt.rcParams['figure.figsize']=[6,5]\n",
    "rects1 = plt.bar(fiftyseven, shelter_count, 0.35,\n",
    "alpha=opacity,\n",
    "color='#3399FF',\n",
    "label='Shelter numbers')\n",
    "plt.title('Present')\n",
    "plt.xticks(fiftyseven, ('Female', 'Male', 'Youth', 'Co-ed','Families'))\n",
    "plt.legend()"
   ]
  },
  {
   "cell_type": "code",
   "execution_count": null,
   "metadata": {},
   "outputs": [],
   "source": []
  }
 ],
 "metadata": {
  "kernelspec": {
   "display_name": "Python 3",
   "language": "python",
   "name": "python3"
  },
  "language_info": {
   "codemirror_mode": {
    "name": "ipython",
    "version": 3
   },
   "file_extension": ".py",
   "mimetype": "text/x-python",
   "name": "python",
   "nbconvert_exporter": "python",
   "pygments_lexer": "ipython3",
   "version": "3.7.3"
  }
 },
 "nbformat": 4,
 "nbformat_minor": 4
}
